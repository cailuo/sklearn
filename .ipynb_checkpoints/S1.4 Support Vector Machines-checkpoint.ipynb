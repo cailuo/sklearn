{
 "cells": [
  {
   "cell_type": "code",
   "execution_count": 1,
   "metadata": {},
   "outputs": [],
   "source": [
    "# svm的优点：\n",
    "# 在高维空间有效。\n",
    "# 在维度数量大于样本数量的情况下仍然有效。\n",
    "# 在决策函数中使用训练点的子集（称为支持向量），因此它也具有内存效率。\n",
    "# 多功能：可以为决策功能指定不同的内核功能。提供了通用内核，但也可以指定自定义内核。\n",
    "\n",
    "# svm的缺点：\n",
    "# 如果特征的数量远大于样本的数量，则避免在选择内核函数时过度拟合，并且正则化项是至关重要的。\n",
    "# SVM不直接提供概率估计，这些是使用昂贵的五重交叉验证计算的（参见下面的分数和概率）。\n",
    "\n",
    "# 为获得最佳性能，请使用带有dtype = float64的C-ordered numpy.ndarray（密集）或scipy.sparse.csr_matrix（稀疏）的输入数据。"
   ]
  },
  {
   "cell_type": "code",
   "execution_count": 2,
   "metadata": {},
   "outputs": [
    {
     "data": {
      "text/plain": [
       "SVC(C=1.0, cache_size=200, class_weight=None, coef0=0.0,\n",
       "  decision_function_shape='ovr', degree=3, gamma='scale', kernel='rbf',\n",
       "  max_iter=-1, probability=False, random_state=None, shrinking=True,\n",
       "  tol=0.001, verbose=False)"
      ]
     },
     "execution_count": 2,
     "metadata": {},
     "output_type": "execute_result"
    }
   ],
   "source": [
    "from sklearn import svm\n",
    "X=[[0,0],[1,1]]\n",
    "y=[0,1]\n",
    "clf=svm.SVC(gamma='scale')\n",
    "# SVC的默认核函数是rbf\n",
    "# 当使用'rbf'，'poly'和'sigmoid'作为核时，核系数是gamma，当前版本默认为'auto'，在0.22版本会修改为'scale'\n",
    "# 'auto'使用 1/n_features, scale使用 1/(n_features * X_std()) \n",
    "clf.fit(X,y)"
   ]
  },
  {
   "cell_type": "code",
   "execution_count": 3,
   "metadata": {},
   "outputs": [
    {
     "name": "stdout",
     "output_type": "stream",
     "text": [
      "支持向量：\n",
      "array([[0., 0.],\n",
      "       [1., 1.]])\n",
      "\n",
      "支持向量的索引：\n",
      "array([0, 1])\n",
      "\n",
      "每个类的支持向量数：\n",
      "array([1, 1])\n"
     ]
    }
   ],
   "source": [
    "# svm的决策函数(decision function)依赖于支持向量  (支持向量是训练数据的自子集)\n",
    "print('支持向量：\\n%r' % clf.support_vectors_)\n",
    "print('\\n支持向量的索引：\\n%r' % clf.support_)\n",
    "print('\\n每个类的支持向量数：\\n%r' % clf.n_support_)"
   ]
  },
  {
   "cell_type": "code",
   "execution_count": 4,
   "metadata": {},
   "outputs": [
    {
     "data": {
      "text/plain": [
       "SVC(C=1.0, cache_size=200, class_weight=None, coef0=0.0,\n",
       "  decision_function_shape='ovo', degree=3, gamma='scale', kernel='rbf',\n",
       "  max_iter=-1, probability=False, random_state=None, shrinking=True,\n",
       "  tol=0.001, verbose=False)"
      ]
     },
     "execution_count": 4,
     "metadata": {},
     "output_type": "execute_result"
    }
   ],
   "source": [
    "# SVC 和 NuSVC 使用的是一对一的方法用于多类分类，构造 n_class * (n_class - 1) / 2 个分类器\n",
    "# 为了提供与其他分类器的一致接口，decision_function_shape选项允许将“一对一”分类器的结果聚合到形状的决策函数（n_samples，n_classes）：\n",
    "X=[[0],[1],[2],[3]]\n",
    "y=[0,1,2,3]\n",
    "clf=svm.SVC(gamma='scale',decision_function_shape='ovo')\n",
    "clf.fit(X,y)"
   ]
  },
  {
   "cell_type": "code",
   "execution_count": 5,
   "metadata": {},
   "outputs": [
    {
     "data": {
      "text/plain": [
       "array([[-0.59115828,  0.        ,  0.38090208,  0.59115828,  0.97206036,\n",
       "         0.38090208]])"
      ]
     },
     "execution_count": 5,
     "metadata": {},
     "output_type": "execute_result"
    }
   ],
   "source": [
    "# decision_function_shape是'ovo',所以输入X之后，出来6个值\n",
    "dec=clf.decision_function([[1]])\n",
    "dec"
   ]
  },
  {
   "cell_type": "code",
   "execution_count": 6,
   "metadata": {},
   "outputs": [
    {
     "data": {
      "text/plain": [
       "array([[-6.09178652e-07, -3.19151282e-04, -2.79396411e-02,\n",
       "        -3.18542104e-04, -2.79390319e-02, -2.76204898e-02]])"
      ]
     },
     "execution_count": 6,
     "metadata": {},
     "output_type": "execute_result"
    }
   ],
   "source": [
    "# decision_function_shape 默认是'ovr'，所以输X之后，只出来一个值\n",
    "clf.decision_function([[5]])"
   ]
  },
  {
   "cell_type": "code",
   "execution_count": 7,
   "metadata": {},
   "outputs": [
    {
     "data": {
      "text/plain": [
       "LinearSVC(C=1.0, class_weight=None, dual=True, fit_intercept=True,\n",
       "     intercept_scaling=1, loss='squared_hinge', max_iter=1000,\n",
       "     multi_class='ovr', penalty='l2', random_state=None, tol=0.0001,\n",
       "     verbose=0)"
      ]
     },
     "execution_count": 7,
     "metadata": {},
     "output_type": "execute_result"
    }
   ],
   "source": [
    "# LinearSVC使用的是'ovr'，所以出来是n_class个值\n",
    "lin_clf=svm.LinearSVC()\n",
    "lin_clf.fit(X,y)"
   ]
  },
  {
   "cell_type": "code",
   "execution_count": 8,
   "metadata": {},
   "outputs": [
    {
     "data": {
      "text/plain": [
       "4"
      ]
     },
     "execution_count": 8,
     "metadata": {},
     "output_type": "execute_result"
    }
   ],
   "source": [
    "lin_clf.decision_function([[1]]).shape[1]"
   ]
  },
  {
   "cell_type": "code",
   "execution_count": 9,
   "metadata": {},
   "outputs": [
    {
     "data": {
      "text/plain": [
       "array([[-0.90906981],\n",
       "       [-0.20513848],\n",
       "       [ 0.10255363],\n",
       "       [ 0.4102371 ]])"
      ]
     },
     "execution_count": 9,
     "metadata": {},
     "output_type": "execute_result"
    }
   ],
   "source": [
    "# 对于'ovr'的LinearSVC，coef_具有形状：[n_class,n_features]\n",
    "# 输出有4个类别，所以有4行，但是feature只有1个，所以只有1列\n",
    "lin_clf.coef_"
   ]
  },
  {
   "cell_type": "code",
   "execution_count": 10,
   "metadata": {},
   "outputs": [
    {
     "data": {
      "text/plain": [
       "array([ 0.3636434 , -0.17093179, -0.58122282, -0.99145839])"
      ]
     },
     "execution_count": 10,
     "metadata": {},
     "output_type": "execute_result"
    }
   ],
   "source": [
    "# 对于'ovr'的LinearSVC，intercept_具有形状：[n_class]\n",
    "# feature只有1个，所以只有1列\n",
    "lin_clf.intercept_"
   ]
  },
  {
   "cell_type": "code",
   "execution_count": null,
   "metadata": {},
   "outputs": [],
   "source": []
  },
  {
   "cell_type": "code",
   "execution_count": 11,
   "metadata": {},
   "outputs": [],
   "source": [
    "# SVC和NuSVC的decision_function方法给出每个样本的每类评分（或者二元情况下每个样本的单个评分）\n",
    "# 当构造函数选项概率设置为True时，将启用类成员概率估计（来自方法predict_proba和predict_log_proba）\n",
    "# 在二进制情况下，使用Platt缩放校准概率：对SVM分数的逻辑回归，通过对训练数据的附加交叉验证拟合。\n",
    "\n",
    "# Platt缩放中涉及的交叉验证对于大型数据集来说是一项昂贵的操作。另外，在得分的“argmax”可能不是概率的argmax的意义上，概率估计可能与得分不一致。\n",
    "# 如果需要置信度分数，但这些不必是概率，那么建议设置probability = False并使用decision_function而不是predict_proba。"
   ]
  },
  {
   "cell_type": "code",
   "execution_count": null,
   "metadata": {},
   "outputs": [],
   "source": []
  },
  {
   "cell_type": "code",
   "execution_count": 12,
   "metadata": {},
   "outputs": [],
   "source": [
    "# SVC（但不是NuSVC）在fit方法中实现关键字class_weight。 它是{class_label：value}形式的字典，\n",
    "# 其中value是一个大于0的浮点数，它将类class_label的参数C设置为C * value。\n"
   ]
  },
  {
   "cell_type": "code",
   "execution_count": null,
   "metadata": {},
   "outputs": [],
   "source": []
  },
  {
   "cell_type": "code",
   "execution_count": 13,
   "metadata": {},
   "outputs": [],
   "source": [
    "# example1:Weighted samples\n",
    "import numpy as np\n",
    "import matplotlib.pyplot as plt\n",
    "from sklearn import svm\n",
    "\n",
    "def plot_decision_function(classifier,sample_weight,axis,title):\n",
    "    xx,yy=np.meshgrid(np.linspace(-4,5,500),np.linspace(-4,5,500))\n",
    "#   np.linspace: [-4,5]之间生成500项的等差数列。\n",
    "#   np.meshgrid: xx:以第一项的序列为行，复制n行，n为第二项的长度    yy:以第二项的序列为列，复制m列，m等于第一项的长度\n",
    "#   xx.shape = n * m \n",
    "#   yy.shape = n * m\n",
    "    \n",
    "    Z=classifier.decision_function(np.c_[xx.ravel(),yy.ravel()])\n",
    "#   np_c:将切片对象转换为沿第二轴的连接。(这里第一轴是行，第二轴是列，沿着第二轴类似于merge)\n",
    "#   decision_function是一个函数，输入应该是和X.shape一样的矩阵 (这里应该是250000 * 2矩阵)\n",
    "#   如果classifier是'ovr'的，则计算出n_class个值，如果是'ovo'的，则计算出n_class * (n_class - 1) / 2个值\n",
    "    \n",
    "    Z=Z.reshape(xx.shape)\n",
    "#   这里要对矩阵做reshape，则上面的classifier应该是'ovr'的，会得到n_class个值，即250000个值。\n",
    "    \n",
    "    axis.contourf(xx,yy,Z,alpha=0.75,cmap=plt.cm.bone)\n",
    "    axis.scatter(X[:,0],X[:,1],c=y,s=100*sample_weight,alpha=0.9,cmap=plt.cm.bone,edgecolors='black')\n",
    "    axis.axis('off')\n",
    "    axis.set_title(title)"
   ]
  },
  {
   "cell_type": "code",
   "execution_count": 14,
   "metadata": {},
   "outputs": [
    {
     "data": {
      "image/png": "[encoded data removed]",
      "text/plain": [
       "<Figure size 1008x432 with 2 Axes>"
      ]
     },
     "metadata": {},
     "output_type": "display_data"
    }
   ],
   "source": [
    "np.random.seed(0)\n",
    "X=np.r_[np.random.randn(10,2) + [1,1], np.random.randn(10,2)]\n",
    "#  np_r:将切片对象转换为沿第一轴的连接。(这里第一轴是行，第二轴是列，沿着第二轴类似于concat)\n",
    "# 组合之后，X.shape是20 * 2\n",
    "y=[1] * 10 + [-1] * 10\n",
    "sample_weight_last_ten=abs(np.random.randn(len(X)))\n",
    "sample_weight_constant=np.ones(len(X))\n",
    "\n",
    "sample_weight_last_ten[15:] *= 5\n",
    "sample_weight_last_ten[9] *= 15\n",
    "\n",
    "clf_weights=svm.SVC(gamma=1)\n",
    "clf_weights.fit(X,y,sample_weight=sample_weight_last_ten)\n",
    "\n",
    "clf_no_weights=svm.SVC(gamma=1)\n",
    "clf_no_weights.fit(X,y)\n",
    "\n",
    "fig,axes=plt.subplots(1,2,figsize=(14,6))\n",
    "plot_decision_function(clf_no_weights,sample_weight_constant,axes[0],'Constant weights')\n",
    "plot_decision_function(clf_weights,sample_weight_last_ten,axes[1],'Modified weights')\n",
    "plt.show()"
   ]
  },
  {
   "cell_type": "code",
   "execution_count": 16,
   "metadata": {},
   "outputs": [],
   "source": [
    "# # xx,yy=np.meshgrid(np.linspace(-4,5,500),np.linspace(-4,5,500))\n",
    "# # Z=clf_no_weights.decision_function(np.c_[xx.ravel(),yy.ravel()])\n",
    "    \n",
    "# # Z=Z.reshape(xx.shape)\n",
    "\n",
    "# xx=[[1,2,3,4],\n",
    "#     [5,6,7,8],\n",
    "#     [9,10,11,12],\n",
    "#     [13,14,15,16]]\n",
    "\n",
    "# ax=plt.gca()   \n",
    "# ax.contourf(xx,yy,Z,alpha=0.75,cmap=plt.cm.bone)\n",
    "# # ax.scatter(X[:,0],X[:,1],c=y,s=100*sample_weight,alpha=0.9,cmap=plt.cm.bone,edgecolors='black')\n",
    "# # axis.axis('off')"
   ]
  },
  {
   "cell_type": "code",
   "execution_count": 17,
   "metadata": {},
   "outputs": [
    {
     "data": {
      "text/plain": [
       "SVR(C=1.0, cache_size=200, coef0=0.0, degree=3, epsilon=0.1,\n",
       "  gamma='auto_deprecated', kernel='rbf', max_iter=-1, shrinking=True,\n",
       "  tol=0.001, verbose=False)"
      ]
     },
     "execution_count": 17,
     "metadata": {},
     "output_type": "execute_result"
    }
   ],
   "source": [
    "from sklearn import svm\n",
    "X=[[0,0],[2,2]]\n",
    "y=[0.5,2.5]\n",
    "clf=svm.SVR()\n",
    "clf.fit(X,y)"
   ]
  },
  {
   "cell_type": "code",
   "execution_count": 18,
   "metadata": {},
   "outputs": [
    {
     "data": {
      "text/plain": [
       "array([1.5])"
      ]
     },
     "execution_count": 18,
     "metadata": {},
     "output_type": "execute_result"
    }
   ],
   "source": [
    "clf.predict([[1,1]])"
   ]
  },
  {
   "cell_type": "code",
   "execution_count": 19,
   "metadata": {},
   "outputs": [],
   "source": [
    "# example 分别使用linear,polynomial,rbf核来做回归\n",
    "import numpy as np\n",
    "from sklearn.svm import SVR\n",
    "import matplotlib.pyplot as plt"
   ]
  },
  {
   "cell_type": "code",
   "execution_count": 20,
   "metadata": {},
   "outputs": [],
   "source": [
    "X=np.sort(5 * np.random.rand(40,1),axis=0)\n",
    "y=np.sin(X).ravel()"
   ]
  },
  {
   "cell_type": "code",
   "execution_count": 28,
   "metadata": {},
   "outputs": [],
   "source": [
    "# add noise to targets\n",
    "y[::5] += 3 * (0.5 - np.random.rand(8))"
   ]
  },
  {
   "cell_type": "code",
   "execution_count": 31,
   "metadata": {},
   "outputs": [
    {
     "name": "stderr",
     "output_type": "stream",
     "text": [
      "C:\\tcl\\Anaconda\\envs\\py3\\lib\\site-packages\\sklearn\\svm\\base.py:196: FutureWarning: The default value of gamma will change from 'auto' to 'scale' in version 0.22 to account better for unscaled features. Set gamma explicitly to 'auto' or 'scale' to avoid this warning.\n",
      "  \"avoid this warning.\", FutureWarning)\n"
     ]
    }
   ],
   "source": [
    "# fit regression model\n",
    "svr_rbf = SVR(kernel='rbf',C=1e3,gamma=0.1)\n",
    "svr_lin = SVR(kernel='linear',C=1e3)\n",
    "svr_poly = SVR(kernel='poly',C=1e3,degree=2)\n",
    "y_rbf = svr_rbf.fit(X,y).predict(X)\n",
    "y_lin = svr_lin.fit(X,y).predict(X)\n",
    "y_poly = svr_poly.fit(X,y).predict(X)"
   ]
  },
  {
   "cell_type": "code",
   "execution_count": 33,
   "metadata": {},
   "outputs": [
    {
     "data": {
      "image/png": "[encoded data removed]",
      "text/plain": [
       "<Figure size 432x288 with 1 Axes>"
      ]
     },
     "metadata": {},
     "output_type": "display_data"
    }
   ],
   "source": [
    "# look at the results\n",
    "lw=2\n",
    "plt.scatter(X,y,color='darkorange',label='data')\n",
    "plt.plot(X,y_rbf,color='navy',lw=lw,label='RBF model')\n",
    "plt.plot(X,y_lin,color='c',lw=lw,label='Linear model')\n",
    "plt.plot(X,y_poly,color='cornflowerblue',lw=lw,label='Polynomial model')\n",
    "plt.xlabel('data')\n",
    "plt.ylabel('target')\n",
    "plt.title('Support Vector Regression')\n",
    "plt.legend()\n",
    "plt.show()\n",
    "# 从结果来看，明显rbf拟合后的效果是最好的"
   ]
  },
  {
   "cell_type": "code",
   "execution_count": 34,
   "metadata": {},
   "outputs": [],
   "source": [
    "# # 实际使用的注意事项：\n",
    "# 1.对于SVC,SVR,NuSVC和NuSVR,如果传递给某些方法的数据不是C顺序连续的，以及双精度的，那么机器会在调用底层C实现之前复制它。\n",
    "# 2.对于LinearSVC(和LogisticRegression)，任何作为numpy数组传递的输入都将被复制并转换为liblinear内部稀疏数据表示。\n",
    "# 如果想要一个大规模的线性分类器，而不是复制一个密集的n-cy连续双精度数组作为输入，建议使用SGDClassifier类。\n",
    "# 3.设置C：C默认为1，这是一个合理的默认选择。如果你有很多嘈杂的观察，你应该减少它。它对应于更多地规范估计。\n",
    "# 4.较大的C值需要更多的时间进行训练。"
   ]
  },
  {
   "cell_type": "code",
   "execution_count": null,
   "metadata": {},
   "outputs": [],
   "source": [
    "# kernel functions\n"
   ]
  },
  {
   "cell_type": "code",
   "execution_count": null,
   "metadata": {},
   "outputs": [],
   "source": []
  },
  {
   "cell_type": "code",
   "execution_count": null,
   "metadata": {},
   "outputs": [],
   "source": []
  },
  {
   "cell_type": "code",
   "execution_count": null,
   "metadata": {},
   "outputs": [],
   "source": []
  },
  {
   "cell_type": "code",
   "execution_count": null,
   "metadata": {},
   "outputs": [],
   "source": []
  }
 ],
 "metadata": {
  "kernelspec": {
   "display_name": "Python [conda env:py3]",
   "language": "python",
   "name": "conda-env-py3-py"
  },
  "language_info": {
   "codemirror_mode": {
    "name": "ipython",
    "version": 3
   },
   "file_extension": ".py",
   "mimetype": "text/x-python",
   "name": "python",
   "nbconvert_exporter": "python",
   "pygments_lexer": "ipython3",
   "version": "3.6.5"
  }
 },
 "nbformat": 4,
 "nbformat_minor": 2
}
