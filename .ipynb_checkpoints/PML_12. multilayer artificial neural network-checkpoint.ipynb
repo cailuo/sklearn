{
 "cells": [
  {
   "cell_type": "code",
   "execution_count": 12,
   "metadata": {},
   "outputs": [],
   "source": [
    "import os\n",
    "import struct\n",
    "import numpy as np\n",
    "import gzip"
   ]
  },
  {
   "cell_type": "code",
   "execution_count": 16,
   "metadata": {},
   "outputs": [],
   "source": [
    "def load_mnist(path,kind='train'):\n",
    "    labels_path=os.path.join(path,'%s-labels-idx1-ubyte.gz' % kind)\n",
    "    images_path=os.path.join(path,'%s-images-idx3-ubyte.gz' % kind)\n",
    "    with gzip.open(labels_path,'rb') as lbpath:\n",
    "        lbpath.read(8)\n",
    "        buffer=lbpath.read()\n",
    "        labels=np.frombuffer(buffer,dtype=np.uint8)\n",
    "    with gzip.open(images_path,'rb') as imgpath:\n",
    "        imgpath.read(16)\n",
    "        buffer=imgpath.read()\n",
    "        images=np.frombuffer(buffer,dtype=np.uint8).reshape(len(labels),784).astype(np.float64)\n",
    "    return images,labels       "
   ]
  },
  {
   "cell_type": "code",
   "execution_count": 18,
   "metadata": {},
   "outputs": [
    {
     "name": "stdout",
     "output_type": "stream",
     "text": [
      "Rows:60000,columns:784\n"
     ]
    }
   ],
   "source": [
    "X_train,y_train = load_mnist('data/',kind='train')\n",
    "print('Rows:%d,columns:%d' % (X_train.shape[0],X_train.shape[1]))"
   ]
  },
  {
   "cell_type": "code",
   "execution_count": null,
   "metadata": {},
   "outputs": [],
   "source": []
  },
  {
   "cell_type": "code",
   "execution_count": null,
   "metadata": {},
   "outputs": [],
   "source": []
  }
 ],
 "metadata": {
  "kernelspec": {
   "display_name": "Python [conda env:py3]",
   "language": "python",
   "name": "conda-env-py3-py"
  },
  "language_info": {
   "codemirror_mode": {
    "name": "ipython",
    "version": 3
   },
   "file_extension": ".py",
   "mimetype": "text/x-python",
   "name": "python",
   "nbconvert_exporter": "python",
   "pygments_lexer": "ipython3",
   "version": "3.6.5"
  }
 },
 "nbformat": 4,
 "nbformat_minor": 2
}
