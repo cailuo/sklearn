{
 "cells": [
  {
   "cell_type": "code",
   "execution_count": 1,
   "metadata": {},
   "outputs": [],
   "source": [
    "# 管道和综合评估：\n",
    "# 综合评估：一种统计估算程序，它结合了来自多个来源的数据，例如来自不同调查或数据库的数据，或来自同一纵向调查中不同时期的数据。\n",
    "# 常见估算器：transformers,classifiers,regressors\n",
    "# 管道：将多个估算器链接成一个。（处理数据时通常有固定的步骤序列：特征选择、标准化、分类等）"
   ]
  },
  {
   "cell_type": "code",
   "execution_count": 2,
   "metadata": {},
   "outputs": [],
   "source": [
    "# 管道中除最后一个之外的所有估计器必须是变换器（即必须具有变换方法）。最后一个估计器可以是任何类型（变换器，分类器等）。"
   ]
  },
  {
   "cell_type": "code",
   "execution_count": 4,
   "metadata": {},
   "outputs": [
    {
     "data": {
      "text/plain": [
       "Pipeline(memory=None,\n",
       "     steps=[('reduce_dim', PCA(copy=True, iterated_power='auto', n_components=None, random_state=None,\n",
       "  svd_solver='auto', tol=0.0, whiten=False)), ('clf', SVC(C=1.0, cache_size=200, class_weight=None, coef0=0.0,\n",
       "  decision_function_shape='ovr', degree=3, gamma='auto_deprecated',\n",
       "  kernel='rbf', max_iter=-1, probability=False, random_state=None,\n",
       "  shrinking=True, tol=0.001, verbose=False))])"
      ]
     },
     "execution_count": 4,
     "metadata": {},
     "output_type": "execute_result"
    }
   ],
   "source": [
    "# 管道通过键值对列表创建: (键，值)\n",
    "from sklearn.pipeline import Pipeline\n",
    "from sklearn.svm import SVC\n",
    "from sklearn.decomposition import PCA\n",
    "estimators=[('reduce_dim',PCA()), ('clf',SVC())]\n",
    "pipe=Pipeline(estimators)\n",
    "pipe"
   ]
  },
  {
   "cell_type": "code",
   "execution_count": 5,
   "metadata": {},
   "outputs": [
    {
     "data": {
      "text/plain": [
       "('reduce_dim',\n",
       " PCA(copy=True, iterated_power='auto', n_components=None, random_state=None,\n",
       "   svd_solver='auto', tol=0.0, whiten=False))"
      ]
     },
     "execution_count": 5,
     "metadata": {},
     "output_type": "execute_result"
    }
   ],
   "source": [
    "# 管道的估算器存储为steps属性中的列表：\n",
    "pipe.steps[0]"
   ]
  },
  {
   "cell_type": "code",
   "execution_count": 10,
   "metadata": {},
   "outputs": [
    {
     "data": {
      "text/plain": [
       "PCA(copy=True, iterated_power='auto', n_components=None, random_state=None,\n",
       "  svd_solver='auto', tol=0.0, whiten=False)"
      ]
     },
     "execution_count": 10,
     "metadata": {},
     "output_type": "execute_result"
    }
   ],
   "source": [
    "# 以及以dict的形式存储在named_steps\n",
    "pipe.named_steps['reduce_dim']"
   ]
  },
  {
   "cell_type": "code",
   "execution_count": 11,
   "metadata": {},
   "outputs": [
    {
     "data": {
      "text/plain": [
       "Pipeline(memory=None,\n",
       "     steps=[('reduce_dim', PCA(copy=True, iterated_power='auto', n_components=None, random_state=None,\n",
       "  svd_solver='auto', tol=0.0, whiten=False)), ('clf', SVC(C=10, cache_size=200, class_weight=None, coef0=0.0,\n",
       "  decision_function_shape='ovr', degree=3, gamma='auto_deprecated',\n",
       "  kernel='rbf', max_iter=-1, probability=False, random_state=None,\n",
       "  shrinking=True, tol=0.001, verbose=False))])"
      ]
     },
     "execution_count": 11,
     "metadata": {},
     "output_type": "execute_result"
    }
   ],
   "source": [
    "# 可以使用<estimator> __ <parameter>语法访问管道中估计器的参数：\n",
    "pipe.set_params(clf__C=10)"
   ]
  },
  {
   "cell_type": "code",
   "execution_count": 17,
   "metadata": {},
   "outputs": [],
   "source": [
    "# GridSearchCV的用法和作用？\n",
    "# 它存在的意义就是自动调参，只要把参数输进去，就能给出最优化的结果和参数。但是这个方法适合于小数据集，一旦数据的量级上去了，很难得出结果.\n",
    "from sklearn.model_selection import GridSearchCV\n",
    "param_grid=dict(reduce_dim_n_components=[2,5,10],clf__C=[0.1,10,100])\n",
    "grid_search=GridSearchCV(pipe,param_grid=param_grid)"
   ]
  },
  {
   "cell_type": "code",
   "execution_count": null,
   "metadata": {},
   "outputs": [],
   "source": []
  },
  {
   "cell_type": "code",
   "execution_count": null,
   "metadata": {},
   "outputs": [],
   "source": []
  },
  {
   "cell_type": "code",
   "execution_count": null,
   "metadata": {},
   "outputs": [],
   "source": []
  },
  {
   "cell_type": "code",
   "execution_count": 18,
   "metadata": {},
   "outputs": [],
   "source": [
    "# example1: Pipeline Anona SVM 管道SVM方差分析/单因子变异数分析   (主要用来说明管道的使用方法和流程)\n",
    "from sklearn import svm\n",
    "from sklearn.datasets import samples_generator\n",
    "from sklearn.feature_selection import SelectKBest,f_regression\n",
    "from sklearn.pipeline import make_pipeline\n",
    "from sklearn.model_selection import train_test_split\n",
    "from sklearn.metrics import classification_report"
   ]
  },
  {
   "cell_type": "code",
   "execution_count": 23,
   "metadata": {},
   "outputs": [
    {
     "name": "stdout",
     "output_type": "stream",
     "text": [
      "              precision    recall  f1-score   support\n",
      "\n",
      "           0       0.67      0.67      0.67         6\n",
      "           1       1.00      1.00      1.00         5\n",
      "           2       0.60      0.86      0.71         7\n",
      "           3       1.00      0.57      0.73         7\n",
      "\n",
      "   micro avg       0.76      0.76      0.76        25\n",
      "   macro avg       0.82      0.77      0.77        25\n",
      "weighted avg       0.81      0.76      0.76        25\n",
      "\n"
     ]
    }
   ],
   "source": [
    "X,y = samples_generator.make_classification(n_samples=100,n_features=20,n_informative=3,n_redundant=0,\n",
    "                                            n_classes=4,n_clusters_per_class=2)\n",
    "\n",
    "X_train,X_test,y_train,y_test = train_test_split(X,y,random_state=42)\n",
    "\n",
    "anova_filter = SelectKBest(f_regression,k=3)\n",
    "\n",
    "clf=svm.SVC(kernel='linear')\n",
    "\n",
    "anova_svm=make_pipeline(anova_filter,clf)\n",
    "anova_svm.fit(X_train,y_train)\n",
    "y_pred=anova_svm.predict(X_test)\n",
    "print(classification_report(y_test,y_pred))"
   ]
  },
  {
   "cell_type": "code",
   "execution_count": null,
   "metadata": {},
   "outputs": [],
   "source": []
  },
  {
   "cell_type": "code",
   "execution_count": 38,
   "metadata": {},
   "outputs": [],
   "source": [
    "# example2:Sample pipeline for text feature extraction and evaluation 用于文本特征提取和评估的示例管道\n",
    "# 主要是GridSearchCV的用法\n",
    "from __future__ import print_function\n",
    "from pprint import pprint\n",
    "from time import time\n",
    "import logging\n",
    "\n",
    "from sklearn.datasets import fetch_20newsgroups\n",
    "from sklearn.feature_extraction.text import CountVectorizer\n",
    "from sklearn.feature_extraction.text import TfidfTransformer\n",
    "from sklearn.linear_model import SGDClassifier\n",
    "from sklearn.model_selection import GridSearchCV\n",
    "from sklearn.pipeline import Pipeline"
   ]
  },
  {
   "cell_type": "code",
   "execution_count": 41,
   "metadata": {},
   "outputs": [
    {
     "name": "stdout",
     "output_type": "stream",
     "text": [
      "Loading 20 newsgroups dataset for categories:\n",
      "['alt.atheism', 'talk.religion.misc']\n",
      "857 documents\n",
      "2 categories\n",
      "performing grid search...\n",
      "pipeline: ['vect', 'tfidf', 'clf']\n",
      "parameters:\n",
      "{'clf__alpha': (1e-05, 1e-06),\n",
      " 'clf__max_iter': (5,),\n",
      " 'clf__penalty': ('l2', 'elasticnet'),\n",
      " 'vect__max_df': (0.5, 0.75, 1.0),\n",
      " 'vect__ngram_range': ((1, 1), (1, 2))}\n",
      "Fitting 5 folds for each of 24 candidates, totalling 120 fits\n"
     ]
    },
    {
     "name": "stderr",
     "output_type": "stream",
     "text": [
      "[Parallel(n_jobs=-1)]: Using backend LokyBackend with 8 concurrent workers.\n",
      "[Parallel(n_jobs=-1)]: Done  34 tasks      | elapsed:    8.9s\n",
      "[Parallel(n_jobs=-1)]: Done 120 out of 120 | elapsed:   34.4s finished\n"
     ]
    },
    {
     "name": "stdout",
     "output_type": "stream",
     "text": [
      "done in 35.636s\n",
      "\n",
      "Best score:0.952\n",
      "Best parameters set:\n",
      "\tclf__alpha: 1e-05\n",
      "\tclf__max_iter: 5\n",
      "\tclf__penalty: 'elasticnet'\n",
      "\tvect__max_df: 1.0\n",
      "\tvect__ngram_range: (1, 2)\n"
     ]
    }
   ],
   "source": [
    "logging.basicConfig(level=logging.INFO,format='%(asctime)s %(levelname)s %(message)s')\n",
    "\n",
    "categories=['alt.atheism','talk.religion.misc',]\n",
    "\n",
    "print('Loading 20 newsgroups dataset for categories:')\n",
    "print(categories)\n",
    "\n",
    "data=fetch_20newsgroups(subset='train',categories=categories)\n",
    "print('%d documents' % len(data.filenames))\n",
    "print('%d categories' % len(data.target_names))\n",
    "\n",
    "pipeline=Pipeline([\n",
    "    ('vect',CountVectorizer()),\n",
    "    ('tfidf',TfidfTransformer()),\n",
    "    ('clf',SGDClassifier()),\n",
    "])\n",
    "\n",
    "parameters={\n",
    "    'vect__max_df':(0.5,0.75,1.0),\n",
    "    'vect__ngram_range':((1,1),(1,2)),\n",
    "    'clf__max_iter':(5,),\n",
    "    'clf__alpha':(0.00001,0.000001),\n",
    "    'clf__penalty':('l2','elasticnet'),\n",
    "}\n",
    "\n",
    "grid_search=GridSearchCV(pipeline,parameters,cv=5,n_jobs=-1,verbose=1)\n",
    "print('performing grid search...')\n",
    "print('pipeline:',[name for name,_ in pipeline.steps])\n",
    "print('parameters:')\n",
    "pprint(parameters)\n",
    "t0=time()\n",
    "grid_search.fit(data.data,data.target)\n",
    "print('done in %0.3fs' % (time() - t0))\n",
    "print()\n",
    "\n",
    "print('Best score:%0.3f' % grid_search.best_score_)\n",
    "print('Best parameters set:')\n",
    "best_parameters=grid_search.best_estimator_.get_params()\n",
    "for param_name in sorted(parameters.keys()):\n",
    "    print('\\t%s: %r' % (param_name,best_parameters[param_name]))"
   ]
  },
  {
   "cell_type": "code",
   "execution_count": null,
   "metadata": {},
   "outputs": [],
   "source": []
  },
  {
   "cell_type": "code",
   "execution_count": 44,
   "metadata": {},
   "outputs": [],
   "source": [
    "# example3:Pipelining: chaining a PCA and a logistic regression 流水线：链接PCA和逻辑回归\n",
    "# PCA进行无监督降维，而逻辑回归进行预测.使用GridSearchCV来设置PCA的维度\n",
    "import numpy as np\n",
    "import matplotlib.pyplot as plt\n",
    "import pandas as pd\n",
    "\n",
    "from sklearn import datasets\n",
    "from sklearn.decomposition import PCA\n",
    "from sklearn.linear_model import SGDClassifier\n",
    "from sklearn.pipeline import Pipeline\n",
    "from sklearn.model_selection import GridSearchCV"
   ]
  },
  {
   "cell_type": "code",
   "execution_count": 47,
   "metadata": {},
   "outputs": [
    {
     "name": "stdout",
     "output_type": "stream",
     "text": [
      "Best parameter (CV score=0.920):\n",
      "{'logistic__alpha': 0.01, 'pca__n_components': 30}\n"
     ]
    },
    {
     "data": {
      "image/png": "[encoded data removed]",
      "text/plain": [
       "<Figure size 432x432 with 2 Axes>"
      ]
     },
     "metadata": {},
     "output_type": "display_data"
    }
   ],
   "source": [
    "logistic = SGDClassifier(loss='log',penalty='l2',early_stopping=True,max_iter=10000,tol=1e-5,random_state=0)\n",
    "pca = PCA()\n",
    "pipe = Pipeline(steps=[('pca',pca),('logistic',logistic)])\n",
    "\n",
    "digits = datasets.load_digits()\n",
    "X_digits = digits.data\n",
    "y_digits = digits.target\n",
    "\n",
    "param_grid = {\n",
    "    'pca__n_components':[5,20,30,40,50,64],\n",
    "    'logistic__alpha':np.logspace(-4,4,5),\n",
    "}\n",
    "search = GridSearchCV(pipe,param_grid,iid=False,cv=5,return_train_score=False)\n",
    "search.fit(X_digits,y_digits)\n",
    "print('Best parameter (CV score=%0.3f):' % search.best_score_)\n",
    "print(search.best_params_)\n",
    "\n",
    "pca.fit(X_digits)\n",
    "\n",
    "fig,(ax0,ax1) = plt.subplots(nrows=2,sharex=True,figsize=(6,6))\n",
    "ax0.plot(pca.explained_variance_ratio_,linewidth=2)\n",
    "ax0.set_ylabel('PCA explained variance')\n",
    "\n",
    "ax0.axvline(search.best_estimator_.named_steps['pca'].n_components,\n",
    "           linestyle=':',label='n_components chosen')\n",
    "ax0.legend(prop=dict(size=12))\n",
    "\n",
    "results = pd.DataFrame(search.cv_results_)\n",
    "components_col = 'param_pca__n_components'\n",
    "best_clfs = results.groupby(components_col).apply(\n",
    "        lambda g: g.nlargest(1,'mean_test_score'))\n",
    "\n",
    "best_clfs.plot(x=components_col,y='mean_test_score',yerr='std_test_score',legend=False,ax=ax1)\n",
    "ax1.set_ylabel('Classification accuracy (val)')\n",
    "ax1.set_xlabel('n_components')\n",
    "\n",
    "plt.tight_layout()\n",
    "plt.show()"
   ]
  },
  {
   "cell_type": "code",
   "execution_count": null,
   "metadata": {},
   "outputs": [],
   "source": []
  },
  {
   "cell_type": "code",
   "execution_count": null,
   "metadata": {},
   "outputs": [],
   "source": []
  },
  {
   "cell_type": "code",
   "execution_count": null,
   "metadata": {},
   "outputs": [],
   "source": []
  }
 ],
 "metadata": {
  "kernelspec": {
   "display_name": "Python [conda env:py3]",
   "language": "python",
   "name": "conda-env-py3-py"
  },
  "language_info": {
   "codemirror_mode": {
    "name": "ipython",
    "version": 3
   },
   "file_extension": ".py",
   "mimetype": "text/x-python",
   "name": "python",
   "nbconvert_exporter": "python",
   "pygments_lexer": "ipython3",
   "version": "3.6.5"
  }
 },
 "nbformat": 4,
 "nbformat_minor": 2
}
