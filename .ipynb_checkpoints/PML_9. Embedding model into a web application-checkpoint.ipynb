{
 "cells": [
  {
   "cell_type": "code",
   "execution_count": 2,
   "metadata": {},
   "outputs": [],
   "source": [
    "import os\n",
    "os.chdir('movieclassifier')"
   ]
  },
  {
   "cell_type": "code",
   "execution_count": 3,
   "metadata": {},
   "outputs": [],
   "source": [
    "import pickle\n",
    "import re\n",
    "import os\n",
    "from vectorizer import vect\n",
    "clf=pickle.load(open(os.path.join('pkl_objects','classifier.pkl'),'rb'))"
   ]
  },
  {
   "cell_type": "code",
   "execution_count": 5,
   "metadata": {},
   "outputs": [],
   "source": [
    "import numpy as np\n",
    "label={0:'negative',1:'positive'}"
   ]
  },
  {
   "cell_type": "code",
   "execution_count": 6,
   "metadata": {},
   "outputs": [
    {
     "name": "stdout",
     "output_type": "stream",
     "text": [
      "Prediction:positive\n",
      "Probability:87.27%\n"
     ]
    }
   ],
   "source": [
    "example=['I love this movie']\n",
    "X=vect.transform(example)\n",
    "print('Prediction:%s\\nProbability:%.2f%%' % (label[clf.predict(X)[0]],np.max(clf.predict_proba(X))*100))"
   ]
  },
  {
   "cell_type": "code",
   "execution_count": null,
   "metadata": {},
   "outputs": [],
   "source": []
  },
  {
   "cell_type": "code",
   "execution_count": 9,
   "metadata": {},
   "outputs": [],
   "source": [
    "import sqlite3\n",
    "import os"
   ]
  },
  {
   "cell_type": "code",
   "execution_count": 15,
   "metadata": {},
   "outputs": [],
   "source": [
    "if os.path.exists('reviews.sqlite'):\n",
    "    os.remove('reviews.sqlite')\n",
    "conn=sqlite3.connect('reviews.sqlite')\n",
    "c=conn.cursor()\n",
    "c.execute('CREATE TABLE review_db (review TEXT,sentiment INTEGER,date TEXT)')\n",
    "\n",
    "example1 = 'I love this movie'\n",
    "c.execute('INSERT INTO review_db (review,sentiment,date) VALUES (?,?,DATETIME(\"now\"))',(example1,1))\n",
    "example2= 'I dislike this movie'\n",
    "c.execute('INSERT INTO review_db (review,sentiment,date) VALUES (?,?,DATETIME(\"now\"))',(example2,0))\n",
    "conn.commit()\n",
    "conn.close()"
   ]
  },
  {
   "cell_type": "code",
   "execution_count": 16,
   "metadata": {},
   "outputs": [
    {
     "name": "stdout",
     "output_type": "stream",
     "text": [
      "[('I love this movie', 1, '2018-12-11 07:22:34'), ('I dislike this movie', 0, '2018-12-11 07:22:34')]\n"
     ]
    }
   ],
   "source": [
    "conn=sqlite3.connect('reviews.sqlite')\n",
    "c=conn.cursor()\n",
    "c.execute('SELECT * FROM review_db WHERE date BETWEEN \"2017-01-01\" and DATETIME(\"now\")')\n",
    "results=c.fetchall()\n",
    "conn.close()\n",
    "print(results)"
   ]
  },
  {
   "cell_type": "code",
   "execution_count": null,
   "metadata": {},
   "outputs": [],
   "source": []
  },
  {
   "cell_type": "code",
   "execution_count": 21,
   "metadata": {},
   "outputs": [],
   "source": [
    "os.chdir('C:\\\\tcl\\\\jupyter\\\\sklearn')\n",
    "f1=os.path.join('1st_flask_app_1','templates')\n",
    "os.makedirs(f1)"
   ]
  },
  {
   "cell_type": "code",
   "execution_count": null,
   "metadata": {},
   "outputs": [],
   "source": [
    "%%writerfile 1st_flask_app_1/app.py\n",
    "from flask import Flask,render_template\n",
    "\n",
    "app=Flask(__name__)\n",
    "@app.route('/')\n",
    "def index():\n",
    "    return render_template('first_app.html')\n",
    "\n",
    "if __name == '__main__':\n",
    "    app.run()\n"
   ]
  },
  {
   "cell_type": "code",
   "execution_count": null,
   "metadata": {},
   "outputs": [],
   "source": [
    "%%writerfile 1st_flask_app_1/templates/first_app.html\n",
    "\n"
   ]
  }
 ],
 "metadata": {
  "kernelspec": {
   "display_name": "Python [conda env:py3]",
   "language": "python",
   "name": "conda-env-py3-py"
  },
  "language_info": {
   "codemirror_mode": {
    "name": "ipython",
    "version": 3
   },
   "file_extension": ".py",
   "mimetype": "text/x-python",
   "name": "python",
   "nbconvert_exporter": "python",
   "pygments_lexer": "ipython3",
   "version": "3.6.5"
  }
 },
 "nbformat": 4,
 "nbformat_minor": 2
}
